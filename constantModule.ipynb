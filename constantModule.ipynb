{
 "cells": [
  {
   "cell_type": "markdown",
   "id": "3bb7d74c",
   "metadata": {},
   "source": [
    "Constant Module"
   ]
  },
  {
   "cell_type": "code",
   "execution_count": null,
   "id": "31b91373",
   "metadata": {},
   "outputs": [],
   "source": [
    "from datetime import datetime\n",
    "TODAY = datetime.today()"
   ]
  }
 ],
 "metadata": {
  "kernelspec": {
   "display_name": "Python 3 (ipykernel)",
   "language": "python",
   "name": "python3"
  },
  "language_info": {
   "codemirror_mode": {
    "name": "ipython",
    "version": 3
   },
   "file_extension": ".py",
   "mimetype": "text/x-python",
   "name": "python",
   "nbconvert_exporter": "python",
   "pygments_lexer": "ipython3",
   "version": "3.9.7"
  }
 },
 "nbformat": 4,
 "nbformat_minor": 5
}
