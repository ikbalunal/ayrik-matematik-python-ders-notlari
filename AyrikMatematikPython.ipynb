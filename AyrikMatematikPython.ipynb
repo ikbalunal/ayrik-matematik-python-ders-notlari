{
 "cells": [
  {
   "cell_type": "markdown",
   "id": "7ae08ea6",
   "metadata": {},
   "source": [
    "Sakarya Üniversitesi Bilişim Sistemleri Mühendisliği\n",
    "-Ayrık Matematik (Python Uygulamalı) Ders Notları\n",
    "<𝙄𝙠𝙗𝙖𝙡 𝙐𝙣𝙖𝙡>"
   ]
  },
  {
   "cell_type": "code",
   "execution_count": 2,
   "id": "8d37fb04",
   "metadata": {},
   "outputs": [
    {
     "name": "stdout",
     "output_type": "stream",
     "text": [
      "Collecting ipynb\n",
      "  Downloading ipynb-0.5.1-py3-none-any.whl (6.9 kB)\n",
      "Installing collected packages: ipynb\n",
      "Successfully installed ipynb-0.5.1\n"
     ]
    }
   ],
   "source": [
    "# Constant interactive-python module import edilmesi içindir, çalıştırmaya gerek yoktur..\n",
    "!pip install ipynb"
   ]
  },
  {
   "cell_type": "code",
   "execution_count": 6,
   "id": "e7f88edc",
   "metadata": {},
   "outputs": [
    {
     "name": "stdout",
     "output_type": "stream",
     "text": [
      "Not 2022-03-13 13:56:06.110305 tarihinde alınmaya başlandı.. \n"
     ]
    }
   ],
   "source": [
    "from ipynb.fs.full.constantModule import TODAY\n",
    "print(f\"Not {TODAY} tarihinde alınmaya başlandı.. \")"
   ]
  },
  {
   "cell_type": "markdown",
   "id": "fceb9bb0",
   "metadata": {},
   "source": [
    "# **KÜME (SET) TEORİSİ**\n",
    "Python’da bir kümeyi tanımlamanın yolu, liste yöntemi olarak bilinir. Bu, küme parantezleri \n",
    "arasında bir kümenin tüm öğelerini listelediğimiz yerdir."
   ]
  },
  {
   "cell_type": "code",
   "execution_count": 20,
   "id": "ab3bc105",
   "metadata": {},
   "outputs": [
    {
     "name": "stdout",
     "output_type": "stream",
     "text": [
      "False\n",
      "True\n",
      "True\n"
     ]
    }
   ],
   "source": [
    "A = {-2,0,1,4} \n",
    "print(8 in A) # 8 A kümesinin elamanı değildir = False\n",
    "print(1 in A) # 1 A kümesinin elemanıdır = Ture"
   ]
  },
  {
   "cell_type": "code",
   "execution_count": 21,
   "id": "bca18e17",
   "metadata": {},
   "outputs": [
    {
     "name": "stdout",
     "output_type": "stream",
     "text": [
      "0  A kümesinin bir elemanıdır.\n",
      "1  A kümesinin bir elemanıdır.\n",
      "4  A kümesinin bir elemanıdır.\n",
      "-2  A kümesinin bir elemanıdır.\n"
     ]
    }
   ],
   "source": [
    "# Küme Elemanlarını Listeleme\n",
    "for eleman in A:\n",
    "    print(eleman, \" A kümesinin bir elemanıdır.\")"
   ]
  },
  {
   "cell_type": "code",
   "execution_count": 22,
   "id": "87146396",
   "metadata": {},
   "outputs": [
    {
     "name": "stdout",
     "output_type": "stream",
     "text": [
      "{3, 5}\n"
     ]
    }
   ],
   "source": [
    "# {𝑥 ∈ 𝐷: 𝑃(𝑥)} kümesi Python'da {𝑓𝑜𝑟 𝑥 𝑖𝑛 𝐷 𝑖𝑓 𝑃(𝑥)} şeklinde ifade edilebilir.\n",
    "#Örneğin, aşağıdaki kod, 𝐵 kümesini 𝐴 = {−2,0,3,5} kümesinin pozitif öğeleri kümesi olarak tanımlar.\n",
    "A = {-2,0,3,5}\n",
    "B = {x for x in A if x>0} # x>0 şartı pozitif öğeleri döndürür\n",
    "print(B)"
   ]
  },
  {
   "cell_type": "code",
   "execution_count": 23,
   "id": "50fdeb6f",
   "metadata": {},
   "outputs": [
    {
     "name": "stdout",
     "output_type": "stream",
     "text": [
      "4\n",
      "0\n",
      "1\n",
      "0\n"
     ]
    }
   ],
   "source": [
    "# Python’da kümenin eleman sayısı len() fonksiyonu ile bulunur. \n",
    "# Not: Python’da set() fonksiyonu küme oluşturmada kullanılır. \n",
    "A = {2,3,5,8}\n",
    "B = set()\n",
    "C = {0}\n",
    "D = {}\n",
    "print(len(A))\n",
    "print(len(B))\n",
    "print(len(C))\n",
    "print(len(D))"
   ]
  },
  {
   "cell_type": "code",
   "execution_count": 24,
   "id": "18dd928f",
   "metadata": {},
   "outputs": [
    {
     "name": "stdout",
     "output_type": "stream",
     "text": [
      "False\n",
      "True\n"
     ]
    }
   ],
   "source": [
    "# Python'da, bir A kümesinin bir B kümesinin alt kümesi olup olmadığını aşağıdaki yollardan biriyle kontrol edebiliriz:\n",
    "A = {2,4,6,8,10,12}\n",
    "B = {2,6,10}\n",
    "print(A.issubset(B))\n",
    "print(B <= A)"
   ]
  },
  {
   "cell_type": "code",
   "execution_count": 25,
   "id": "8139f313",
   "metadata": {},
   "outputs": [
    {
     "name": "stdout",
     "output_type": "stream",
     "text": [
      "{0, 2, 3, 5, 7, -6, -4}\n",
      "{0, 2, 3, 5, 7, -6, -4}\n"
     ]
    }
   ],
   "source": [
    "# P ython'da A ve B kümelerinin birleşimini 𝐴. 𝑢𝑛𝑖𝑜𝑛(𝐵) veya 𝐴| 𝐵 yollardan biriyle hesaplayabiliriz:\n",
    "A = {-4,-6,2,5,7}\n",
    "B = {-4,0,2,3}\n",
    "print(A.union(B))\n",
    "print(A | B) "
   ]
  },
  {
   "cell_type": "code",
   "execution_count": 26,
   "id": "98a2c696",
   "metadata": {},
   "outputs": [
    {
     "name": "stdout",
     "output_type": "stream",
     "text": [
      "{2, -4}\n",
      "{2, -4}\n"
     ]
    }
   ],
   "source": [
    "# Python'da A ve B kümelerinin kesişim kümesi A. intersection(B) veya A & B olmak üzere iki yoldan biri ile hesaplanır.\n",
    "A = {-4,-6,2,5,7}\n",
    "B = {-4,0,2,3}\n",
    "\n",
    "print(A.intersection(B))\n",
    "print(A & B)"
   ]
  },
  {
   "cell_type": "code",
   "execution_count": 27,
   "id": "a8b23fa2",
   "metadata": {},
   "outputs": [
    {
     "name": "stdout",
     "output_type": "stream",
     "text": [
      "{-6, 5, 7}\n",
      "{0, 3}\n"
     ]
    }
   ],
   "source": [
    "#Python'da 𝐴 ve 𝐵 kümelerinin farkını 𝐴. 𝑑𝑖𝑓𝑓𝑒𝑟𝑒𝑛𝑐𝑒(𝐵) ya da 𝐴 – 𝐵 yollarından biriyle hesaplanır.\n",
    "A = {-4,-6,2,5,7}\n",
    "B = {-4,0,2,3}\n",
    "\n",
    "print(A.difference(B))\n",
    "print(B - A)"
   ]
  }
 ],
 "metadata": {
  "kernelspec": {
   "display_name": "Python 3 (ipykernel)",
   "language": "python",
   "name": "python3"
  },
  "language_info": {
   "codemirror_mode": {
    "name": "ipython",
    "version": 3
   },
   "file_extension": ".py",
   "mimetype": "text/x-python",
   "name": "python",
   "nbconvert_exporter": "python",
   "pygments_lexer": "ipython3",
   "version": "3.9.7"
  }
 },
 "nbformat": 4,
 "nbformat_minor": 5
}
